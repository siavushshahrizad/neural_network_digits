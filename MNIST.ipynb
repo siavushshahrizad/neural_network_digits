{
 "cells": [
  {
   "cell_type": "code",
   "execution_count": 1,
   "metadata": {},
   "outputs": [],
   "source": [
    "import numpy as np\n",
    "from keras.datasets import mnist"
   ]
  },
  {
   "cell_type": "code",
   "execution_count": 2,
   "metadata": {},
   "outputs": [],
   "source": [
    "NORMALISATION = 255\n",
    "NUM_DIGITS = 10\n",
    "PIXELS = 28 * 28\n",
    "TRAIN_SIZE = 1000\n",
    "VALIDATION_SIZE = int(TRAIN_SIZE * 20 / 100)\n",
    "\n",
    "ALPHA = 0.001\n",
    "ITERATIONS = 40\n",
    "HIDDEN_SIZE = 100\n",
    "BATCH_SIZE = 100"
   ]
  },
  {
   "cell_type": "code",
   "execution_count": 3,
   "metadata": {},
   "outputs": [],
   "source": [
    "# Create training, validation, and test set\n",
    "(x_train, y_train), (x_test, y_test) = mnist.load_data()\n",
    "train_images = x_train[:TRAIN_SIZE].reshape(TRAIN_SIZE, PIXELS) / NORMALISATION    # Flatten original 3D tensor to 2D, many neural nets prefer this as input\n",
    "train_labels = np.eye(NUM_DIGITS)[y_train[:TRAIN_SIZE]]\n",
    "\n",
    "validation_images = x_train[TRAIN_SIZE:TRAIN_SIZE+VALIDATION_SIZE].reshape(VALIDATION_SIZE, PIXELS) / NORMALISATION\n",
    "validation_labels = np.eye(NUM_DIGITS)[y_train[TRAIN_SIZE:TRAIN_SIZE+VALIDATION_SIZE]]\n",
    "\n",
    "test_images = x_test.reshape(len(x_test), PIXELS) / NORMALISATION                       # NORMALISATION HELPS TO PREVENT OVERFLOW\n",
    "test_labels = np.eye(NUM_DIGITS)[y_test]"
   ]
  },
  {
   "cell_type": "code",
   "execution_count": 4,
   "metadata": {},
   "outputs": [],
   "source": [
    "# ReLU functions\n",
    "def relu(arr: np.ndarray) -> np.ndarray:\n",
    "    return np.maximum(0, arr)\n",
    "\n",
    "def relu2deriv(arr: np.ndarray) -> np.ndarray:\n",
    "    return (arr >= 0).astype(int)"
   ]
  },
  {
   "cell_type": "code",
   "execution_count": 5,
   "metadata": {},
   "outputs": [],
   "source": [
    "# Initialise weights\n",
    "def initialise_weights():\n",
    "    np.random.seed(1)                                                                   # Set to make results reproducable \n",
    "    weights_0_1 = np.random.uniform(-0.1, 0.1, (PIXELS, HIDDEN_SIZE))                   # Weights have to be of shape (input, output)\n",
    "    weights_1_2 = np.random.uniform(-0.1, 0.1, (HIDDEN_SIZE, NUM_DIGITS))\n",
    "    return weights_0_1, weights_1_2"
   ]
  },
  {
   "cell_type": "code",
   "execution_count": 6,
   "metadata": {},
   "outputs": [],
   "source": [
    "# Train and test functions\n",
    "def train():\n",
    "    weights_0_1, weights_1_2 = initialise_weights()\n",
    "\n",
    "    for iteration in range(ITERATIONS): \n",
    "        error = correct = 0\n",
    "\n",
    "        # Training loop\n",
    "        for i in range(int(len(train_images) / BATCH_SIZE)):\n",
    "            batch_start, batch_end = (i * BATCH_SIZE), ((i + 1) * BATCH_SIZE)\n",
    "\n",
    "            layer_0 = train_images[batch_start:batch_end]               # Even if only one row need to slice, not index, so shape is (1, pixels)\n",
    "            layer_1 = relu(np.dot(layer_0, weights_0_1))\n",
    "            mask = np.random.randint(2, size=layer_1.shape) * 2        # Allegedly, mask better if applied to only first layer \n",
    "            layer_1 *= mask\n",
    "            layer_2 = np.dot(layer_1, weights_1_2)\n",
    "            \n",
    "            error += np.sum((train_labels[batch_start:batch_end] - layer_2) ** 2)\n",
    "            \n",
    "            for k in range(BATCH_SIZE):\n",
    "                correct += int(np.argmax(layer_2[k:k+1]) == np.argmax(train_labels[batch_start+k:batch_start+k+1])) \n",
    "\n",
    "                layer_2_delta = (train_labels[batch_start:batch_end] - layer_2) / BATCH_SIZE        # Averaging delta                     \n",
    "                layer_1_delta = layer_2_delta.dot(weights_1_2.T) * relu2deriv(layer_1)              # Unclear why this is used\n",
    "                layer_1_delta *= mask    \n",
    "                \n",
    "                weights_1_2 += ALPHA * layer_1.T.dot(layer_2_delta)                                 # Need to do calculation by hand to trace correction\n",
    "                weights_0_1 += ALPHA * layer_0.T.dot(layer_1_delta)                                 \n",
    "\n",
    "        # Validation loop\n",
    "        if iteration % 20 == 0:\n",
    "            validation(weights_0_1, weights_1_2)\n",
    "\n",
    "        print(f\"I:{iteration} Train-Err:{str(error/float(len(train_images)))[0:5]} Train-Acc:{correct/float(len(train_images))}\")\n",
    "            \n",
    "    return weights_0_1, weights_1_2\n",
    "\n",
    "def validation(weights_0_1, weights_1_2):\n",
    "    val_error = val_correct = 0\n",
    "\n",
    "    for i in range(int(len(validation_images) / BATCH_SIZE)):\n",
    "        batch_start, batch_end = (i * BATCH_SIZE), ((i + 1) * BATCH_SIZE)\n",
    "        val_layer_0 = validation_images[batch_start:batch_end]\n",
    "        val_layer_1 = relu(np.dot(val_layer_0, weights_0_1))\n",
    "        val_layer_2 = np.dot(val_layer_1, weights_1_2)\n",
    "\n",
    "        val_error += np.sum((validation_labels[batch_start:batch_end] - val_layer_2) ** 2)\n",
    "\n",
    "        val_correct += np.sum(np.argmax(val_layer_2, axis=1) == np.argmax(validation_labels[batch_start:batch_end], axis=1))\n",
    "    \n",
    "    print(f\"Validation-Err:{val_error / len(validation_images)} Validation-Acc:{val_correct / len(validation_images)}\")\n",
    "\n",
    "def test(weights_0_1, weights_1_2):\n",
    "    error = correct = 0\n",
    "\n",
    "    for i in range(int(len(test_images) / BATCH_SIZE)):\n",
    "        batch_start, batch_end = (i * BATCH_SIZE), ((i + 1) * BATCH_SIZE)\n",
    "        inputs = test_images[batch_start:batch_end]\n",
    "        layer_1 = relu(np.dot(inputs, weights_0_1))\n",
    "        pred = np.dot(layer_1, weights_1_2)\n",
    "\n",
    "        error += np.sum((test_labels[batch_start:batch_end] - pred) ** 2)\n",
    "        correct += np.sum(np.argmax(pred, axis=1) == np.argmax(test_labels[batch_start:batch_end], axis=1))\n",
    "\n",
    "    print(f\"Test-Err:{str(error/float(len(test_images)))[0:5]} Test-Acc:{correct/float(len(test_images))}\")"
   ]
  },
  {
   "cell_type": "code",
   "execution_count": 7,
   "metadata": {},
   "outputs": [
    {
     "name": "stdout",
     "output_type": "stream",
     "text": [
      "Training model ...\n",
      "Validation-Err:0.7754553743229216 Validation-Acc:0.47\n",
      "I:0 Train-Err:1.218 Train-Acc:0.185\n",
      "I:1 Train-Err:0.829 Train-Acc:0.413\n",
      "I:2 Train-Err:0.738 Train-Acc:0.532\n",
      "I:3 Train-Err:0.693 Train-Acc:0.608\n",
      "I:4 Train-Err:0.673 Train-Acc:0.616\n",
      "I:5 Train-Err:0.643 Train-Acc:0.65\n",
      "I:6 Train-Err:0.632 Train-Acc:0.655\n",
      "I:7 Train-Err:0.611 Train-Acc:0.687\n",
      "I:8 Train-Err:0.600 Train-Acc:0.686\n",
      "I:9 Train-Err:0.577 Train-Acc:0.71\n",
      "I:10 Train-Err:0.567 Train-Acc:0.71\n",
      "I:11 Train-Err:0.569 Train-Acc:0.707\n",
      "I:12 Train-Err:0.552 Train-Acc:0.715\n",
      "I:13 Train-Err:0.543 Train-Acc:0.729\n",
      "I:14 Train-Err:0.549 Train-Acc:0.724\n",
      "I:15 Train-Err:0.525 Train-Acc:0.74\n",
      "I:16 Train-Err:0.523 Train-Acc:0.736\n",
      "I:17 Train-Err:0.508 Train-Acc:0.759\n",
      "I:18 Train-Err:0.514 Train-Acc:0.737\n",
      "I:19 Train-Err:0.520 Train-Acc:0.739\n",
      "Validation-Err:0.49334761530406085 Validation-Acc:0.79\n",
      "I:20 Train-Err:0.503 Train-Acc:0.747\n",
      "I:21 Train-Err:0.495 Train-Acc:0.765\n",
      "I:22 Train-Err:0.497 Train-Acc:0.768\n",
      "I:23 Train-Err:0.491 Train-Acc:0.769\n",
      "I:24 Train-Err:0.496 Train-Acc:0.756\n",
      "I:25 Train-Err:0.498 Train-Acc:0.756\n",
      "I:26 Train-Err:0.482 Train-Acc:0.773\n",
      "I:27 Train-Err:0.484 Train-Acc:0.758\n",
      "I:28 Train-Err:0.472 Train-Acc:0.783\n",
      "I:29 Train-Err:0.471 Train-Acc:0.789\n",
      "I:30 Train-Err:0.465 Train-Acc:0.777\n",
      "I:31 Train-Err:0.477 Train-Acc:0.774\n",
      "I:32 Train-Err:0.469 Train-Acc:0.777\n",
      "I:33 Train-Err:0.462 Train-Acc:0.785\n",
      "I:34 Train-Err:0.466 Train-Acc:0.782\n",
      "I:35 Train-Err:0.462 Train-Acc:0.785\n",
      "I:36 Train-Err:0.464 Train-Acc:0.769\n",
      "I:37 Train-Err:0.464 Train-Acc:0.774\n",
      "I:38 Train-Err:0.461 Train-Acc:0.788\n",
      "I:39 Train-Err:0.454 Train-Acc:0.796\n",
      "\n",
      "Applying model to test data ...\n",
      "Test-Err:0.441 Test-Acc:0.8031\n"
     ]
    }
   ],
   "source": [
    "# Train model and apply to test data\n",
    "print(\"Training model ...\")\n",
    "weights_0_1, weights_1_2 = train()\n",
    "print()\n",
    "print(\"Applying model to test data ...\")\n",
    "test(weights_0_1, weights_1_2)"
   ]
  }
 ],
 "metadata": {
  "kernelspec": {
   "display_name": "tweet-classification",
   "language": "python",
   "name": "python3"
  },
  "language_info": {
   "codemirror_mode": {
    "name": "ipython",
    "version": 3
   },
   "file_extension": ".py",
   "mimetype": "text/x-python",
   "name": "python",
   "nbconvert_exporter": "python",
   "pygments_lexer": "ipython3",
   "version": "3.8.18"
  }
 },
 "nbformat": 4,
 "nbformat_minor": 2
}

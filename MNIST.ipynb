{
 "cells": [
  {
   "cell_type": "code",
   "execution_count": 2,
   "metadata": {},
   "outputs": [],
   "source": [
    "import torch \n",
    "import torchvision.datasets as datasets\n",
    "from PIL.ImageShow import show\n",
    "from PIL.Image import Image\n",
    "import numpy as np"
   ]
  },
  {
   "cell_type": "code",
   "execution_count": 3,
   "metadata": {},
   "outputs": [
    {
     "name": "stdout",
     "output_type": "stream",
     "text": [
      "The first label is a 5.\n",
      "There are 784 pixels in the image.\n"
     ]
    }
   ],
   "source": [
    "# Load MNIST data set\n",
    "train_data = datasets.MNIST(root=\"./data\", train=True, download=True, transform=None)\n",
    "\n",
    "# Get first image data and target and display image\n",
    "train_image_zero, train_target_zero = train_data[0]\n",
    "image_zero_pixels = train_image_zero.getdata()\n",
    "\n",
    "train_image_zero.show()\n",
    "print(f\"The first label is a {train_target_zero}.\")\n",
    "print(f\"There are {len(image_zero_pixels)} pixels in the image.\")"
   ]
  },
  {
   "cell_type": "code",
   "execution_count": 17,
   "metadata": {},
   "outputs": [],
   "source": [
    "alpha = 0.01              \n",
    "\n",
    "def w_sum(inputs, weights):\n",
    "    if len(inputs) != len(weights):\n",
    "        raise ValueError(\"Vectors need to be of same len\")\n",
    "    output = 0\n",
    "    \n",
    "    for input, weight in zip(inputs, weights):\n",
    "        output += input * weight\n",
    "    return output\n",
    "\n",
    "def neural_network(inputs, weights, target):\n",
    "    pred = w_sum(inputs, weights)\n",
    "    error = (target - pred) ** 2\n",
    "    delta = pred - target\n",
    "    return pred, error, delta\n",
    "    \n",
    "def ele_mul(scalar, vector):\n",
    "    output = np.zeros(len(vector))\n",
    "\n",
    "    for i in range(len(vector)):\n",
    "        output[i] = vector[i] * scalar\n",
    "    \n",
    "    return output\n",
    "\n",
    "def forward_propagation(inputs, weights, target):\n",
    "    pred, error, delta = neural_network(inputs, weights, target)\n",
    "    weight_deltas = ele_mul(delta, inputs)                          # Why scale input by delta?         \n",
    "    weights -= alpha * weight_deltas            # Backward propagtion\n",
    "    return pred, error\n",
    "\n"
   ]
  },
  {
   "cell_type": "code",
   "execution_count": 18,
   "metadata": {},
   "outputs": [
    {
     "name": "stdout",
     "output_type": "stream",
     "text": [
      "Iteration 0: Prediction: 1.256459932033792, Error: 14.014092240468441\n",
      "Iteration 1000: Prediction: 2.320810168563338, Error: 5.38615983850699\n",
      "Iteration 2000: Prediction: 5.513675525744381, Error: 0.2638625457487658\n",
      "Iteration 3000: Prediction: 5.046140065675671, Error: 15.633008380255184\n",
      "Iteration 4000: Prediction: 9.02277533450218, Error: 4.091620053870406\n",
      "Iteration 5000: Prediction: 7.294402812251568, Error: 0.08667301586163204\n",
      "Iteration 6000: Prediction: 6.157701275758545, Error: 0.024869692375872717\n",
      "Iteration 7000: Prediction: 7.2259921741924575, Error: 0.599088114411319\n",
      "Iteration 8000: Prediction: 4.289160577814207, Error: 18.3968984622755\n",
      "Iteration 9000: Prediction: 10.056133246445585, Error: 16.452216912921198\n",
      "Iteration 10000: Prediction: 4.562339498626215, Error: 2.440904708967612\n",
      "Iteration 11000: Prediction: 4.817591335816604, Error: 1.3980902491359628\n",
      "Iteration 12000: Prediction: 3.6239731066329623, Error: 11.397557584737491\n",
      "Iteration 13000: Prediction: 5.235209335174055, Error: 3.114486090656801\n",
      "Iteration 14000: Prediction: 2.5383495225309605, Error: 2.366519253471234\n",
      "Iteration 15000: Prediction: 2.936388976715234, Error: 4.258490455422399\n",
      "Iteration 16000: Prediction: 5.48710697276658, Error: 6.314631366318341\n",
      "Iteration 17000: Prediction: -0.5659523047584385, Error: 12.716015839812018\n",
      "Iteration 18000: Prediction: 8.034410054997215, Error: 16.276464491862633\n",
      "Iteration 19000: Prediction: 5.116038286861924, Error: 8.317235162846305\n",
      "Iteration 20000: Prediction: 6.991814011639731, Error: 3.967323056964357\n",
      "Iteration 21000: Prediction: 5.777353967662951, Error: 1.4948633203895276\n",
      "Iteration 22000: Prediction: 1.8177962083014292, Error: 1.397605805106478\n",
      "Iteration 23000: Prediction: 9.108593690130864, Error: 4.446167350059692\n",
      "Iteration 24000: Prediction: 5.699809176082617, Error: 5.290877826433729\n",
      "Iteration 25000: Prediction: 4.737019450185674, Error: 3.01723657032334\n",
      "Iteration 26000: Prediction: 3.598503493235514, Error: 0.16119944494408478\n",
      "Iteration 27000: Prediction: 3.0153546437730814, Error: 3.9388171899930726\n",
      "Iteration 28000: Prediction: 1.1008473544939126, Error: 0.01017018890842087\n",
      "Iteration 29000: Prediction: 1.3192926913386853, Error: 0.4633624400649303\n",
      "Iteration 30000: Prediction: 2.173757277356899, Error: 0.6826770367206845\n",
      "Iteration 31000: Prediction: 5.390488641463548, Error: 0.3715040961849519\n",
      "Iteration 32000: Prediction: 8.811774013475855, Error: 0.6589770489546974\n",
      "Iteration 33000: Prediction: 2.2528167478671954, Error: 0.5582828122677542\n",
      "Iteration 34000: Prediction: 8.421089668818796, Error: 19.546033859736294\n",
      "Iteration 35000: Prediction: 0.08309698735651519, Error: 0.8407111345946985\n",
      "Iteration 36000: Prediction: 9.020538862479253, Error: 0.0004218448719416514\n",
      "Iteration 37000: Prediction: 4.340493697650452, Error: 0.11593595813967712\n",
      "Iteration 38000: Prediction: 5.199638983561897, Error: 7.842021822386245\n",
      "Iteration 39000: Prediction: 6.762775370974021, Error: 5.00517404072043\n",
      "Iteration 40000: Prediction: 7.930030268898466, Error: 0.8649563010673523\n",
      "Iteration 41000: Prediction: 4.707120867088148, Error: 0.08577818649519844\n",
      "Iteration 42000: Prediction: -0.1403630643364534, Error: 1.300427918502826\n",
      "Iteration 43000: Prediction: 8.315855645222385, Error: 0.4680534981740793\n",
      "Iteration 44000: Prediction: 2.035173943906241, Error: 4.141932981954883\n",
      "Iteration 45000: Prediction: 7.578703727655442, Error: 20.96452782564584\n",
      "Iteration 46000: Prediction: 9.173247831714136, Error: 0.030014811193649488\n",
      "Iteration 47000: Prediction: 3.331197006400425, Error: 11.096873495451154\n",
      "Iteration 48000: Prediction: 3.591688888800776, Error: 0.166717963528745\n",
      "Iteration 49000: Prediction: 6.483082401170888, Error: 6.1656982110045835\n",
      "Iteration 50000: Prediction: 1.2542407852470683, Error: 3.047675235894773\n",
      "Iteration 51000: Prediction: 6.901712671863273, Error: 0.009660398872256587\n",
      "Iteration 52000: Prediction: 5.601256840512185, Error: 0.15899610723832475\n",
      "Iteration 53000: Prediction: 7.339951539776983, Error: 5.475373208504675\n",
      "Iteration 54000: Prediction: 8.878095320925516, Error: 15.039623318184377\n",
      "Iteration 55000: Prediction: 1.4468943692986944, Error: 0.19971457731087786\n",
      "Iteration 56000: Prediction: 0.3837603577566254, Error: 0.3797512966722423\n",
      "Iteration 57000: Prediction: 1.8257476359945481, Error: 3.333354430339681\n",
      "Iteration 58000: Prediction: 6.042447033437593, Error: 16.341378018148397\n",
      "Iteration 59000: Prediction: 3.987318672440528, Error: 4.050886126306559\n"
     ]
    }
   ],
   "source": [
    "# Initialise weights and test run\n",
    "# Note it is only a single neuron\n",
    "weights = np.random.uniform(-0.5, 0.5, size=784)\n",
    "\n",
    "for i in range(len(train_data)):\n",
    "    input_data, target = train_data[i]\n",
    "    input_data = np.array(input_data.getdata()) / 255.0\n",
    "\n",
    "    pred, error = forward_propagation(input_data, weights, target)\n",
    "\n",
    "    if i % 1000 == 0: \n",
    "            print(f\"Iteration {i}: Prediction: {pred}, Error: {error}\")\n"
   ]
  }
 ],
 "metadata": {
  "kernelspec": {
   "display_name": "tweet-classification",
   "language": "python",
   "name": "python3"
  },
  "language_info": {
   "codemirror_mode": {
    "name": "ipython",
    "version": 3
   },
   "file_extension": ".py",
   "mimetype": "text/x-python",
   "name": "python",
   "nbconvert_exporter": "python",
   "pygments_lexer": "ipython3",
   "version": "3.8.18"
  }
 },
 "nbformat": 4,
 "nbformat_minor": 2
}

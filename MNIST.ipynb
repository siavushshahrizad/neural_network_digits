{
 "cells": [
  {
   "cell_type": "code",
   "execution_count": 35,
   "metadata": {},
   "outputs": [],
   "source": [
    "import torch \n",
    "import torchvision.datasets as datasets\n",
    "from PIL.ImageShow import show\n",
    "from PIL.Image import Image\n",
    "import numpy as np"
   ]
  },
  {
   "cell_type": "code",
   "execution_count": 37,
   "metadata": {},
   "outputs": [
    {
     "name": "stdout",
     "output_type": "stream",
     "text": [
      "The first label is a 5.\n",
      "There are 784 pixels in the image.\n"
     ]
    }
   ],
   "source": [
    "# Load MNIST data set\n",
    "train_data = datasets.MNIST(root=\"./data\", train=True, download=True, transform=None)\n",
    "\n",
    "# Get first image data and target and display image\n",
    "train_image_zero, train_target_zero = train_data[0]\n",
    "image_zero_pixels = train_image_zero.getdata()\n",
    "\n",
    "train_image_zero.show()\n",
    "print(f\"The first label is a {train_target_zero}.\")\n",
    "print(f\"There are {len(image_zero_pixels)} pixels in the image.\")"
   ]
  },
  {
   "cell_type": "code",
   "execution_count": 56,
   "metadata": {},
   "outputs": [],
   "source": [
    "alpha = 0.00000001              # Higher values generate exploding values or poor convergence but there is only a single neuron\n",
    "\n",
    "def w_sum(inputs, weights):\n",
    "    if len(inputs) != len(weights):\n",
    "        raise ValueError(\"Vectors need to be of same len\")\n",
    "    output = 0\n",
    "    \n",
    "    for input, weight in zip(inputs, weights):\n",
    "        output += input * weight\n",
    "    return output\n",
    "\n",
    "def neural_network(inputs, weights, target):\n",
    "    pred = w_sum(inputs, weights)\n",
    "    error = (target - pred) ** 2\n",
    "    delta = pred - target\n",
    "    return pred, error, delta\n",
    "    \n",
    "def ele_mul(scalar, vector):\n",
    "    output = np.zeros(len(vector))\n",
    "\n",
    "    for i in range(len(vector)):\n",
    "        output[i] = vector[i] * scalar\n",
    "    \n",
    "    return output\n",
    "\n",
    "def forward_propagation(inputs, weights, target):\n",
    "    for i in range(1, 101):\n",
    "        pred, error, delta = neural_network(inputs, weights, target)\n",
    "        weight_deltas = ele_mul(delta, inputs)                          # Why scale input by delta? \n",
    "        \n",
    "        if i % 10 == 0:  # Print every 10 iterations\n",
    "            print(f\"Iteration {i}: Prediction: {pred}, Error: {error}\")\n",
    "\n",
    "        weights -= alpha * weight_deltas\n",
    "\n"
   ]
  },
  {
   "cell_type": "code",
   "execution_count": 57,
   "metadata": {},
   "outputs": [
    {
     "name": "stdout",
     "output_type": "stream",
     "text": [
      "Iteration 10: Prediction: 858.4850642567284, Error: 728436.7549093118\n",
      "Iteration 20: Prediction: 467.6424069082663, Error: 214037.99666987386\n",
      "Iteration 30: Prediction: 255.7811860261122, Error: 62891.2032646635\n",
      "Iteration 40: Prediction: 140.93912344730987, Error: 18479.44528362295\n",
      "Iteration 50: Prediction: 78.68752647058152, Error: 5429.851557352652\n",
      "Iteration 60: Prediction: 44.943258567922946, Error: 1595.4639050239498\n",
      "Iteration 70: Prediction: 26.651750051086896, Error: 468.79828027474144\n",
      "Iteration 80: Prediction: 16.736605802392635, Error: 137.74791576075646\n",
      "Iteration 90: Prediction: 11.361976072869327, Error: 40.47473955176182\n",
      "Iteration 100: Prediction: 8.448589842176526, Error: 11.892771899563117\n"
     ]
    }
   ],
   "source": [
    "# Initialise weights and test run\n",
    "# Note it is only a single neuron\n",
    "weights = np.random.uniform(-0.5, 0.5, size=784)\n",
    "forward_propagation(image_zero_pixels, weights, train_target_zero)"
   ]
  }
 ],
 "metadata": {
  "kernelspec": {
   "display_name": "tweet-classification",
   "language": "python",
   "name": "python3"
  },
  "language_info": {
   "name": "python",
   "version": "3.8.18"
  }
 },
 "nbformat": 4,
 "nbformat_minor": 2
}

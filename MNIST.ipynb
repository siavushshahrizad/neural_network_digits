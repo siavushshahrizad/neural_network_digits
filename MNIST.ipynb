{
 "cells": [
  {
   "cell_type": "code",
   "execution_count": 2,
   "metadata": {},
   "outputs": [],
   "source": [
    "import torch \n",
    "import torchvision.datasets as datasets\n",
    "from PIL.ImageShow import show\n",
    "from PIL.Image import Image\n",
    "import numpy as np"
   ]
  },
  {
   "cell_type": "code",
   "execution_count": 3,
   "metadata": {},
   "outputs": [
    {
     "name": "stdout",
     "output_type": "stream",
     "text": [
      "The first label is a 5.\n",
      "There are 784 pixels in the image.\n"
     ]
    }
   ],
   "source": [
    "# Load MNIST data set\n",
    "train_data = datasets.MNIST(root=\"./data\", train=True, download=True, transform=None)\n",
    "\n",
    "# Get first image data and target and display image\n",
    "train_image_zero, train_target_zero = train_data[0]\n",
    "image_zero_pixels = train_image_zero.getdata()\n",
    "\n",
    "train_image_zero.show()\n",
    "print(f\"The first label is a {train_target_zero}.\")\n",
    "print(f\"There are {len(image_zero_pixels)} pixels in the image.\")"
   ]
  },
  {
   "cell_type": "code",
   "execution_count": 21,
   "metadata": {},
   "outputs": [],
   "source": [
    "alpha = 0.01              \n",
    "\n",
    "def w_sum(inputs, weights):\n",
    "    if len(inputs) != len(weights):\n",
    "        raise ValueError(\"Vectors need to be of same len\")\n",
    "    output = 0\n",
    "    \n",
    "    for input, weight in zip(inputs, weights):\n",
    "        output += input * weight\n",
    "    return output\n",
    "\n",
    "def neural_network(inputs, weights, target):\n",
    "    pred = w_sum(inputs, weights)\n",
    "    error = (target - pred) ** 2\n",
    "    delta = pred - target\n",
    "    return pred, error, delta\n",
    "    \n",
    "def ele_mul(scalar, vector):\n",
    "    output = np.zeros(len(vector))\n",
    "\n",
    "    for i in range(len(vector)):\n",
    "        output[i] = vector[i] * scalar\n",
    "    \n",
    "    return output\n",
    "\n",
    "def forward_propagation(inputs, weights, target):\n",
    "    pred, error, delta = neural_network(inputs, weights, target)\n",
    "    weight_deltas = ele_mul(delta, inputs)                          # Why scale input by delta?         \n",
    "    weights -= alpha * weight_deltas            # Backward propagtion\n",
    "    return pred, error\n",
    "\n",
    "def train(data):\n",
    "    weights = np.random.uniform(-0.5, 0.5, size=784)\n",
    "\n",
    "    for i in range(len(train_data)):\n",
    "        input_data, target = train_data[i]\n",
    "        input_data = np.array(input_data.getdata()) / 255.0\n",
    "\n",
    "        pred, error = forward_propagation(input_data, weights, target)\n",
    "\n",
    "        if i % 1000 == 0: \n",
    "                print(f\"Iteration {i}: Prediction: {pred}, Target: {target}, Error: {error}\")\n",
    "    return weights"
   ]
  },
  {
   "cell_type": "code",
   "execution_count": 22,
   "metadata": {},
   "outputs": [
    {
     "name": "stdout",
     "output_type": "stream",
     "text": [
      "Iteration 0: Prediction: -1.3998975816896115, Target: 5, Error: 40.95868905611653\n",
      "Iteration 1000: Prediction: 0.18155187448953952, Target: 0, Error: 0.03296108313066551\n",
      "Iteration 2000: Prediction: 5.709469947326071, Target: 5, Error: 0.5033476061588583\n",
      "Iteration 3000: Prediction: 3.996063054729717, Target: 9, Error: 25.03938495224089\n",
      "Iteration 4000: Prediction: 9.57118552914791, Target: 7, Error: 6.610995025299615\n",
      "Iteration 5000: Prediction: 7.555041575443091, Target: 7, Error: 0.30807115047034805\n",
      "Iteration 6000: Prediction: 6.0716490115137765, Target: 6, Error: 0.00513358085090127\n",
      "Iteration 7000: Prediction: 7.031702453731672, Target: 8, Error: 0.937600138109265\n",
      "Iteration 8000: Prediction: 4.953331989011729, Target: 0, Error: 24.53549779336689\n",
      "Iteration 9000: Prediction: 9.041439724074053, Target: 6, Error: 9.25035559517565\n",
      "Iteration 10000: Prediction: 4.4070609522695925, Target: 3, Error: 1.9798205234018125\n",
      "Iteration 11000: Prediction: 4.672048003133036, Target: 6, Error: 1.7634565059829566\n",
      "Iteration 12000: Prediction: 3.7199903470793103, Target: 7, Error: 10.758463323252903\n",
      "Iteration 13000: Prediction: 5.649668141646752, Target: 7, Error: 1.8233961276837356\n",
      "Iteration 14000: Prediction: 2.25037089904822, Target: 1, Error: 1.5634273851866543\n",
      "Iteration 15000: Prediction: 2.9638098407400975, Target: 5, Error: 4.146070364666867\n",
      "Iteration 16000: Prediction: 5.189038502451383, Target: 8, Error: 7.901504540700765\n",
      "Iteration 17000: Prediction: 0.21499273756366022, Target: 3, Error: 7.756265451823154\n",
      "Iteration 18000: Prediction: 8.220208406535932, Target: 4, Error: 17.810158994596545\n",
      "Iteration 19000: Prediction: 5.2246922066050905, Target: 8, Error: 7.702333348078522\n",
      "Iteration 20000: Prediction: 6.643358689780846, Target: 5, Error: 2.7006277832782186\n",
      "Iteration 21000: Prediction: 5.9760916354272915, Target: 7, Error: 1.0483883390419586\n",
      "Iteration 22000: Prediction: 1.7907780718708943, Target: 3, Error: 1.462217671468272\n",
      "Iteration 23000: Prediction: 7.27989428678762, Target: 7, Error: 0.07834081177635045\n",
      "Iteration 24000: Prediction: 5.704131194531516, Target: 8, Error: 5.271013571923286\n",
      "Iteration 25000: Prediction: 4.743837647800253, Target: 3, Error: 3.040969741885518\n",
      "Iteration 26000: Prediction: 3.548465748685259, Target: 4, Error: 0.2038831801103638\n",
      "Iteration 27000: Prediction: 2.700374342597952, Target: 5, Error: 5.288278164181802\n",
      "Iteration 28000: Prediction: 1.1736941537762873, Target: 1, Error: 0.03016965905606053\n",
      "Iteration 29000: Prediction: 1.15159390644735, Target: 2, Error: 0.719792899577268\n",
      "Iteration 30000: Prediction: 1.9670320772509164, Target: 3, Error: 1.0670227294285566\n",
      "Iteration 31000: Prediction: 5.5696537511627815, Target: 6, Error: 0.18519789388826519\n",
      "Iteration 32000: Prediction: 8.83840512140441, Target: 8, Error: 0.7029231475971434\n",
      "Iteration 33000: Prediction: 2.153800312310682, Target: 3, Error: 0.7160539114454991\n",
      "Iteration 34000: Prediction: 8.294056766216492, Target: 4, Error: 18.43892351148964\n",
      "Iteration 35000: Prediction: 0.11310409988704898, Target: 1, Error: 0.7865843376371616\n",
      "Iteration 36000: Prediction: 9.32899748409634, Target: 9, Error: 0.10823934454172097\n",
      "Iteration 37000: Prediction: 4.4705777075811755, Target: 4, Error: 0.22144337887235427\n",
      "Iteration 38000: Prediction: 5.145736241702013, Target: 8, Error: 8.146821601933347\n",
      "Iteration 39000: Prediction: 6.669120653485345, Target: 9, Error: 5.432998528008584\n",
      "Iteration 40000: Prediction: 8.407004913504052, Target: 7, Error: 1.979662826624544\n",
      "Iteration 41000: Prediction: 4.805056771043418, Target: 5, Error: 0.03800286251601835\n",
      "Iteration 42000: Prediction: -0.22845627057237303, Target: 1, Error: 1.5091048087085832\n",
      "Iteration 43000: Prediction: 8.36629287697418, Target: 9, Error: 0.4015847177736618\n",
      "Iteration 44000: Prediction: 2.3375276868105437, Target: 0, Error: 5.464035686605851\n",
      "Iteration 45000: Prediction: 7.616338227764843, Target: 3, Error: 21.310578633123054\n",
      "Iteration 46000: Prediction: 9.04141475127326, Target: 9, Error: 0.0017151816230259998\n",
      "Iteration 47000: Prediction: 3.2860585594955007, Target: 0, Error: 10.798180856433646\n",
      "Iteration 48000: Prediction: 3.5481318371335178, Target: 4, Error: 0.20418483661232972\n",
      "Iteration 49000: Prediction: 6.489265971104083, Target: 4, Error: 6.1964450748967534\n",
      "Iteration 50000: Prediction: 1.4182914569847231, Target: 3, Error: 2.5018019150475097\n",
      "Iteration 51000: Prediction: 6.778219498521327, Target: 7, Error: 0.049186590836131534\n",
      "Iteration 52000: Prediction: 5.781163452558794, Target: 6, Error: 0.047889434495987086\n",
      "Iteration 53000: Prediction: 7.386987815748968, Target: 5, Error: 5.697710832534031\n",
      "Iteration 54000: Prediction: 8.912949642905838, Target: 5, Error: 15.311174907916927\n",
      "Iteration 55000: Prediction: 1.4975693135770647, Target: 1, Error: 0.24757522181355132\n",
      "Iteration 56000: Prediction: 0.36698277730143336, Target: 1, Error: 0.4007108042330067\n",
      "Iteration 57000: Prediction: 1.7183264802741895, Target: 0, Error: 2.9526458928114847\n",
      "Iteration 58000: Prediction: 6.133549003201201, Target: 2, Error: 17.086227361865646\n",
      "Iteration 59000: Prediction: 4.041412248323377, Target: 6, Error: 3.8360659810176885\n"
     ]
    }
   ],
   "source": [
    "weights = train(train_data)\n",
    "\n"
   ]
  }
 ],
 "metadata": {
  "kernelspec": {
   "display_name": "tweet-classification",
   "language": "python",
   "name": "python3"
  },
  "language_info": {
   "codemirror_mode": {
    "name": "ipython",
    "version": 3
   },
   "file_extension": ".py",
   "mimetype": "text/x-python",
   "name": "python",
   "nbconvert_exporter": "python",
   "pygments_lexer": "ipython3",
   "version": "3.8.18"
  }
 },
 "nbformat": 4,
 "nbformat_minor": 2
}

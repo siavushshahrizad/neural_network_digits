{
 "cells": [
  {
   "cell_type": "code",
   "execution_count": 1,
   "metadata": {},
   "outputs": [],
   "source": [
    "import numpy as np\n",
    "from keras.datasets import mnist"
   ]
  },
  {
   "cell_type": "code",
   "execution_count": 2,
   "metadata": {},
   "outputs": [],
   "source": [
    "NORMALISATION = 255\n",
    "NUM_DIGITS = 10\n",
    "PIXELS = 28 * 28\n",
    "NUM_SAMPLES = 1000\n",
    "\n",
    "ALPHA = 0.005\n",
    "ITERATIONS = 100\n",
    "HIDDEN_SIZE = 40"
   ]
  },
  {
   "cell_type": "code",
   "execution_count": 3,
   "metadata": {},
   "outputs": [],
   "source": [
    "# Create training set\n",
    "(x_train, y_train), (x_test, y_test) = mnist.load_data()\n",
    "train_images = x_train[:NUM_SAMPLES].reshape(NUM_SAMPLES, PIXELS) / NORMALISATION    # Flatten original 3D tensor to 2D, many neural nets prefer this as input\n",
    "\n",
    "train_labels = np.zeros((len(y_train[:NUM_SAMPLES]), NUM_DIGITS))                      \n",
    "\n",
    "for i, label in enumerate(y_train[:NUM_SAMPLES]):\n",
    "    train_labels[i][label] = 1\n",
    "\n",
    "# Create test set\n",
    "test_images = x_test.reshape(len(x_test), PIXELS) / NORMALISATION                       # Allegedly, normalisation has a variety of benefits \n",
    "                                                                                        # Without it, the model does not learn due to overflow in squared errors\n",
    "test_labels = np.zeros((len(y_test), NUM_DIGITS))\n",
    "\n",
    "for i, label in enumerate(y_test):\n",
    "    test_labels[i][label] = 1"
   ]
  },
  {
   "cell_type": "code",
   "execution_count": 4,
   "metadata": {},
   "outputs": [],
   "source": [
    "# ReLU functions\n",
    "def relu(arr: np.ndarray) -> np.ndarray:\n",
    "    return np.maximum(0, arr)\n",
    "\n",
    "def relu2deriv(arr: np.ndarray) -> np.ndarray:\n",
    "    return (arr >= 0).astype(int)"
   ]
  },
  {
   "cell_type": "code",
   "execution_count": 5,
   "metadata": {},
   "outputs": [],
   "source": [
    "# Initialise weights\n",
    "np.random.seed(1)                                                                   # Set to make results reproducable \n",
    "weights_0_1 = np.random.uniform(-0.1, 0.1, (PIXELS, HIDDEN_SIZE))                   # Weights have to be of shape (input, output)\n",
    "weights_1_2 = np.random.uniform(-0.1, 0.1, (HIDDEN_SIZE, NUM_DIGITS))"
   ]
  },
  {
   "cell_type": "code",
   "execution_count": 7,
   "metadata": {},
   "outputs": [
    {
     "name": "stdout",
     "output_type": "stream",
     "text": [
      " I:99 Train-Err:0.420 Train-Acc:0.817"
     ]
    }
   ],
   "source": [
    "# Run training loop. It currently processes one sample at a\n",
    "# time. \n",
    "\n",
    "for iteration in range(ITERATIONS): \n",
    "    error, correct = 0, 0\n",
    "\n",
    "    for i in range(len(train_images)):\n",
    "        \n",
    "        layer_0 = train_images[i: i + 1]               # Slicing like this retains shape of array needed for dot product\n",
    "        layer_1 = relu(np.dot(layer_0, weights_0_1))\n",
    "        mask = np.random.randint(2, size=layer_1.shape) * 2        # Seem better if applied to only first layer \n",
    "        layer_1 *= mask\n",
    "        layer_2 = np.dot(layer_1, weights_1_2)\n",
    "        \n",
    "        layer_2_delta = train_labels[i: i + 1] - layer_2\n",
    "        layer_1_delta = layer_2_delta.dot(weights_1_2.T) * relu2deriv(layer_1)              # Unclear why this is used\n",
    "        layer_1_delta *= mask\n",
    "\n",
    "        error += np.sum(layer_2_delta ** 2)\n",
    "        correct += int(np.argmax(layer_2) == np.argmax(train_labels[i: i + 1])) \n",
    "        \n",
    "        weights_1_2 += ALPHA * layer_1.T.dot(layer_2_delta)                                 # Unclear why the dot product is the gradient\n",
    "        weights_0_1 += ALPHA * layer_0.T.dot(layer_1_delta)                                 # Same\n",
    "\n",
    "    print(f\"\\r I:{iteration} Train-Err:{str(error/float(len(train_images)))[0:5]} Train-Acc:{correct/float(len(train_images))}\", end=\"\")\n"
   ]
  },
  {
   "cell_type": "code",
   "execution_count": 8,
   "metadata": {},
   "outputs": [
    {
     "name": "stdout",
     "output_type": "stream",
     "text": [
      "Test-Err:0.429 Test-Acc:0.7942\n"
     ]
    }
   ],
   "source": [
    "# Apply model to test data\n",
    "error, correct = 0, 0\n",
    "\n",
    "for i in range(len(test_images)):\n",
    "    inputs = test_images[i:i + 1]\n",
    "    layer_1 = relu(np.dot(inputs, weights_0_1))\n",
    "    pred = np.dot(layer_1, weights_1_2)\n",
    "\n",
    "    error += np.sum((test_labels[i:i + 1] - pred) ** 2)\n",
    "    correct += int(np.argmax(pred) == np.argmax(test_labels[i:i + 1]))\n",
    "\n",
    "print(f\"Test-Err:{str(error/float(len(test_images)))[0:5]} Test-Acc:{correct/float(len(test_images))}\")"
   ]
  }
 ],
 "metadata": {
  "kernelspec": {
   "display_name": "tweet-classification",
   "language": "python",
   "name": "python3"
  },
  "language_info": {
   "codemirror_mode": {
    "name": "ipython",
    "version": 3
   },
   "file_extension": ".py",
   "mimetype": "text/x-python",
   "name": "python",
   "nbconvert_exporter": "python",
   "pygments_lexer": "ipython3",
   "version": "3.8.18"
  }
 },
 "nbformat": 4,
 "nbformat_minor": 2
}
